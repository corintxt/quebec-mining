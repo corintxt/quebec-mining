{
 "cells": [
  {
   "cell_type": "markdown",
   "metadata": {},
   "source": [
    "# Mining claims in Quebec\n",
    "\n",
    "**Step 1**: Download data from GESTIM\n",
    "* Go to [gestim.mines.gouv.qc.ca](https://gestim.mines.gouv.qc.ca/)\n",
    "* Click \"S'inscrire\" and create an account\n",
    "* Sign in, click Consultation du registre > Recherche\n",
    "* Select \"Date d'inscription - Entre __ et ___\" and input a date range, click \"Recherche\"\n",
    "* Select \"Liste de titres excluant la localisation\" and click \"Telecharger\"\n",
    "* Download the file, go back to \"Recherche\" and repeat"
   ]
  },
  {
   "cell_type": "markdown",
   "metadata": {},
   "source": [
    "**Step 2**: Extract CSV files from each zip: open a terminal in the directory containing the zip files and run:\n",
    "\n",
    "`unzip '*.zip'`"
   ]
  },
  {
   "cell_type": "markdown",
   "metadata": {},
   "source": [
    "**Step 3:** Combine files into one CSV using pandas:"
   ]
  },
  {
   "cell_type": "code",
   "execution_count": null,
   "metadata": {},
   "outputs": [],
   "source": [
    "import os\n",
    "import glob\n",
    "import pandas as pd\n",
    "\n",
    "file_path = '/path/to/your/directory'\n",
    "all_files = glob.glob(file_path+'/*.csv')\n",
    "df = pd.concat((pd.read_csv(f, \n",
    "                            encoding='UTF-16', \n",
    "                            sep='\\t',\n",
    "                            on_bad_lines='warn') for f in all_files))"
   ]
  },
  {
   "cell_type": "markdown",
   "metadata": {},
   "source": [
    "**Or**: Load the pre-processed mining claims data"
   ]
  },
  {
   "cell_type": "code",
   "execution_count": 2,
   "metadata": {},
   "outputs": [
    {
     "name": "stderr",
     "output_type": "stream",
     "text": [
      "/var/folders/wg/s1f24q713mb0h5lcj__zsrh1jz45r8/T/ipykernel_80597/3924893663.py:2: DtypeWarning: Columns (12) have mixed types. Specify dtype option on import or set low_memory=False.\n",
      "  df = pd.read_csv('data/mining-claims-2019-2024.csv')\n"
     ]
    }
   ],
   "source": [
    "import pandas as pd\n",
    "df = pd.read_csv('data/mining-claims-2019-2024.csv')"
   ]
  },
  {
   "cell_type": "markdown",
   "metadata": {},
   "source": [
    "**Step 4**: Create a datetime column and use it to extract month and year\n"
   ]
  },
  {
   "cell_type": "code",
   "execution_count": 3,
   "metadata": {},
   "outputs": [],
   "source": [
    "df['IssueDate'] = pd.to_datetime(df[\"Date d'inscription\"])\n",
    "\n",
    "df['Month'] = df['IssueDate'].dt.month\n",
    "df['Year'] = df['IssueDate'].dt.year\n"
   ]
  },
  {
   "cell_type": "markdown",
   "metadata": {},
   "source": [
    "**Step 5:** Make new dataframe grouped by year and month, counting the number of unique claim title numbers (column `No titre`)"
   ]
  },
  {
   "cell_type": "code",
   "execution_count": 4,
   "metadata": {},
   "outputs": [],
   "source": [
    "monthcount = df.groupby(['Year','Month'])['No titre'].count().reset_index()\n",
    "\n",
    "monthcount.columns = ['Year','Month', 'Count']"
   ]
  },
  {
   "cell_type": "code",
   "execution_count": 5,
   "metadata": {},
   "outputs": [],
   "source": [
    "monthcount.to_csv('data/claims-per-month-2019-2024.csv',index=False)"
   ]
  },
  {
   "cell_type": "markdown",
   "metadata": {},
   "source": [
    "**Step 6:** Calculate averages + max"
   ]
  },
  {
   "cell_type": "code",
   "execution_count": 6,
   "metadata": {},
   "outputs": [
    {
     "name": "stdout",
     "output_type": "stream",
     "text": [
      "Average number of claims 2019-2021: 3019.222222222222\n",
      "Average number of claims 2022-2024: 7474.2692307692305\n"
     ]
    }
   ],
   "source": [
    "mean1 = monthcount.query('Year <= 2021')['Count'].mean()\n",
    "print(f'Average number of claims 2019-2021: {mean1}')\n",
    "\n",
    "mean2 = monthcount.query('Year >= 2022')['Count'].mean()\n",
    "print(f'Average number of claims 2022-2024: {mean2}')"
   ]
  },
  {
   "cell_type": "code",
   "execution_count": 7,
   "metadata": {},
   "outputs": [
    {
     "data": {
      "text/plain": [
       "Year      2023\n",
       "Month        2\n",
       "Count    31831\n",
       "Name: 49, dtype: int64"
      ]
     },
     "execution_count": 7,
     "metadata": {},
     "output_type": "execute_result"
    }
   ],
   "source": [
    "monthcount.loc[monthcount['Count'].idxmax()]"
   ]
  },
  {
   "cell_type": "markdown",
   "metadata": {},
   "source": [
    "**Step 7:** Plot"
   ]
  },
  {
   "cell_type": "code",
   "execution_count": 8,
   "metadata": {},
   "outputs": [
    {
     "data": {
      "text/plain": [
       "<matplotlib.collections.LineCollection at 0x157645490>"
      ]
     },
     "execution_count": 8,
     "metadata": {},
     "output_type": "execute_result"
    },
    {
     "data": {
      "image/png": "[encoded data removed]",
      "text/plain": [
       "<Figure size 640x480 with 1 Axes>"
      ]
     },
     "metadata": {},
     "output_type": "display_data"
    }
   ],
   "source": [
    "ax = monthcount.plot(x='Year', y='Count', \n",
    "                     kind='bar', \n",
    "                     width=.9,\n",
    "                     title=\"Monthly mining claims issued in Quebec, 2019-2024\")\n",
    "\n",
    "ax.hlines(mean1, xmin=0, xmax=35, linestyles='--', colors='y')\n",
    "ax.hlines(mean2, xmin=36, xmax=62, linestyles='--', colors='r')"
   ]
  }
 ],
 "metadata": {
  "kernelspec": {
   "display_name": "data",
   "language": "python",
   "name": "python3"
  },
  "language_info": {
   "codemirror_mode": {
    "name": "ipython",
    "version": 3
   },
   "file_extension": ".py",
   "mimetype": "text/x-python",
   "name": "python",
   "nbconvert_exporter": "python",
   "pygments_lexer": "ipython3",
   "version": "3.11.5"
  }
 },
 "nbformat": 4,
 "nbformat_minor": 2
}
